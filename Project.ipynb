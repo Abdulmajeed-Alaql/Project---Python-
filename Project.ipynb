{
 "cells": [
  {
   "cell_type": "code",
   "execution_count": 9,
   "metadata": {},
   "outputs": [],
   "source": [
    "import random\n",
    "\n",
    "def chooseWord():\n",
    "    words = [\"python\", \"programming\", \"hello\", \"computer Scinse\", \"developer\", \"challenge\",\"mjeed\",'imamu','saudi arabia','alaql','riyadh','java']\n",
    "    return random.choice(words)\n",
    "\n",
    "def displayWord(word, guseedLetters):\n",
    "    display = ''\n",
    "    for letter in word:\n",
    "        if letter in guseedLetters:\n",
    "            display += letter\n",
    "        else:\n",
    "            display += '_'\n",
    "    return display\n",
    "def gussesGame():\n",
    "    print(\"Welcome to gusses the word game\")\n",
    "\n",
    "    wordToGusses = chooseWord()\n",
    "    guseedLetters = []\n",
    "    attempts = 10\n",
    "\n",
    "    while attempts > 0:\n",
    "        current_display = displayWord(wordToGusses, guseedLetters)\n",
    "        print(f\"Current Word: {current_display}\")\n",
    "        guess = input(\"Enter a letter: \").lower()\n",
    "\n",
    "        if guess.isalpha() and len(guess) == 1:\n",
    "            if guess in guseedLetters:\n",
    "                print(\"You've already guessed that letter. Try again.\")\n",
    "            elif guess in wordToGusses:\n",
    "                guseedLetters.append(guess)\n",
    "                print(\"Good guess!\")\n",
    "            else:\n",
    "                attempts -= 1\n",
    "                print(f\"Wrong guess! You have {attempts} attempts left.\")\n",
    "        else:\n",
    "            print(\"Invalid input. Please enter a single letter.\")\n",
    "\n",
    "        if set(guseedLetters) == set(wordToGusses):\n",
    "            print(f\"Congratulations! You guessed the word: {wordToGusses}\")\n",
    "            break\n",
    "\n",
    "    if attempts == 0:\n",
    "        print(f\"Sorry, you ran out of attempts. The word was: {wordToGusses}\")"
   ]
  },
  {
   "cell_type": "code",
   "execution_count": null,
   "metadata": {},
   "outputs": [],
   "source": [
    "gussesGame()"
   ]
  }
 ],
 "metadata": {
  "kernelspec": {
   "display_name": "Python 3",
   "language": "python",
   "name": "python3"
  },
  "language_info": {
   "codemirror_mode": {
    "name": "ipython",
    "version": 3
   },
   "file_extension": ".py",
   "mimetype": "text/x-python",
   "name": "python",
   "nbconvert_exporter": "python",
   "pygments_lexer": "ipython3",
   "version": "3.11.5"
  },
  "orig_nbformat": 4
 },
 "nbformat": 4,
 "nbformat_minor": 2
}
